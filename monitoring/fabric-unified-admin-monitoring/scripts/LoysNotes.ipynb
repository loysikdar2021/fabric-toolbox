{
 "cells": [
  {
   "cell_type": "markdown",
   "id": "41001cdf",
   "metadata": {},
   "source": [
    " ### Microsoft Fabric Capacity Metrics\n",
    "\n",
    "https://app.fabric.microsoft.com/Redirect?action=OpenApp&appId=bb6a762a-4af8-4e3b-a8e8-390dcdaef522&ctid=ef7a30f5-c157-43d4-8d49-12859f5b0397&experience=fabric-developer"
   ]
  }
 ],
 "metadata": {
  "language_info": {
   "name": "python"
  }
 },
 "nbformat": 4,
 "nbformat_minor": 5
}
